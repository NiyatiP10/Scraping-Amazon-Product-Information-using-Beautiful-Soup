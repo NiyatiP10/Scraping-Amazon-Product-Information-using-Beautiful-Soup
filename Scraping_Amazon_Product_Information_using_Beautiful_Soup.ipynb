{
  "nbformat": 4,
  "nbformat_minor": 0,
  "metadata": {
    "colab": {
      "provenance": []
    },
    "kernelspec": {
      "name": "python3",
      "display_name": "Python 3"
    },
    "language_info": {
      "name": "python"
    }
  },
  "cells": [
    {
      "cell_type": "code",
      "source": [
        "from bs4 import BeautifulSoup\n",
        "import requests"
      ],
      "metadata": {
        "id": "9WNtTPPBFg9D"
      },
      "execution_count": 18,
      "outputs": []
    },
    {
      "cell_type": "code",
      "source": [
        "def main(URL):\n",
        "    # opening our output file in append mode\n",
        "    File = open(\"out.csv\", \"a\")\n",
        "\n",
        "    # specifying user agent, You can use other user agents\n",
        "    # available on the internet\n",
        "    HEADERS = {\n",
        "        'User-Agent':'Mozilla/5.0 (X11; Linux x86_64) AppleWebKit/537.36 (KHTML, like Gecko) Chrome/44.0.2403.157 Safari/537.36',\n",
        "        'Accept-Language': 'en-US, en;q=0.5'\n",
        "    }\n",
        "\n",
        "    # Making the HTTP Request\n",
        "    webpage = requests.get(URL, headers=HEADERS)\n",
        "\n",
        "    # Creating the Soup Object containing all data\n",
        "    soup = BeautifulSoup(webpage.content, \"lxml\")\n",
        "\n",
        "    # retrieving product title\n",
        "    try:\n",
        "        # Outer Tag Object\n",
        "        title = soup.find(\"span\", attrs={\n",
        "            'id': 'productTitle'\n",
        "        })\n",
        "\n",
        "        # Inner NavigableString Object\n",
        "        title_value = title.string\n",
        "\n",
        "        # Title as a string value\n",
        "        title_string = title_value.strip().replace(',', '')\n",
        "\n",
        "    except AttributeError:\n",
        "        title_string = \"NA\"\n",
        "    print(\"product Title = \", title_string)\n",
        "\n",
        "    # saving the title in the file\n",
        "    File.write(f\"{title_string},\")\n",
        "\n",
        "    # retrieving price\n",
        "    try:\n",
        "        price = soup.find(\"span\", attrs={\n",
        "            'id': 'priceblock_ourprice'\n",
        "        }).string.strip().replace(',', '')\n",
        "        # we are omitting unnecessary spaces\n",
        "        # and commas form our string\n",
        "    except AttributeError:\n",
        "        price = \"NA\"\n",
        "    print(\"Products price = \", price)\n",
        "\n",
        "    # saving\n",
        "    File.write(f\"{price},\")\n",
        "\n",
        "    # retrieving product rating\n",
        "    try:\n",
        "        rating = soup.find(\"i\", attrs={\n",
        "                           'class': 'a-icon a-icon-star a-star-4-5'\n",
        "        }).string.strip().replace(',', '')\n",
        "\n",
        "    except AttributeError:\n",
        "\n",
        "        try:\n",
        "            rating = soup.find(\"span\", attrs={\n",
        "                'class': 'a-icon-alt'\n",
        "            }).string.strip().replace(',', '')\n",
        "        except:\n",
        "            rating = \"NA\"\n",
        "    print(\"Overall rating = \", rating)\n",
        "\n",
        "    File.write(f\"{rating},\")\n",
        "\n",
        "    try:\n",
        "        review_count = soup.find(\"span\", attrs={\n",
        "            'id': 'acrCustomerReviewText'\n",
        "        }).string.strip().replace(',', '')\n",
        "\n",
        "    except AttributeError:\n",
        "        review_count = \"NA\"\n",
        "    print(\"Total reviews = \", review_count)\n",
        "    File.write(f\"{review_count},\")\n",
        "\n",
        "    # print availablility status\n",
        "    try:\n",
        "        available = soup.find(\"div\", attrs={'id': 'availability'})\n",
        "        available = available.find(\"span\").string.strip().replace(',', '')\n",
        "\n",
        "    except AttributeError:\n",
        "        available = \"NA\"\n",
        "    print(\"Availability = \", available)\n",
        "\n",
        "    # saving the availability and closing the line\n",
        "    File.write(f\"{available},\\n\")\n",
        "\n",
        "    # closing the file\n",
        "    File.close()"
      ],
      "metadata": {
        "id": "wV04wV2bJVvR"
      },
      "execution_count": 14,
      "outputs": []
    },
    {
      "cell_type": "code",
      "source": [
        "if __name__ == '__main__':\n",
        "    main(\"https://www.amazon.com/dp/B08CFSZLQ4\")"
      ],
      "metadata": {
        "colab": {
          "base_uri": "https://localhost:8080/"
        },
        "id": "g8OLRORsMy8g",
        "outputId": "0ac06d40-a4f3-4852-c846-a48dadad54cf"
      },
      "execution_count": 17,
      "outputs": [
        {
          "output_type": "stream",
          "name": "stdout",
          "text": [
            "product Title =  Google Pixel 4a - Unlocked Android Smartphone - 128 GB of Storage - Up to 24 Hour Battery - Just Black\n",
            "Products price =  NA\n",
            "Overall rating =  4.5 out of 5 stars\n",
            "Total reviews =  10335 ratings\n",
            "Availability =  In Stock\n"
          ]
        }
      ]
    }
  ]
}